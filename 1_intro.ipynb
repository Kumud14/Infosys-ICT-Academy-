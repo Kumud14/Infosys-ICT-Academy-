{
  "nbformat": 4,
  "nbformat_minor": 0,
  "metadata": {
    "colab": {
      "provenance": [],
      "authorship_tag": "ABX9TyNKrmB7V9pEq4uEwegIR7Yn",
      "include_colab_link": true
    },
    "kernelspec": {
      "name": "python3",
      "display_name": "Python 3"
    },
    "language_info": {
      "name": "python"
    }
  },
  "cells": [
    {
      "cell_type": "markdown",
      "metadata": {
        "id": "view-in-github",
        "colab_type": "text"
      },
      "source": [
        "<a href=\"https://colab.research.google.com/github/Kumud14/Infosys-ICT-Academy-/blob/main/1_intro.ipynb\" target=\"_parent\"><img src=\"https://colab.research.google.com/assets/colab-badge.svg\" alt=\"Open In Colab\"/></a>"
      ]
    },
    {
      "cell_type": "code",
      "execution_count": null,
      "metadata": {
        "colab": {
          "base_uri": "https://localhost:8080/"
        },
        "id": "B0T4JG6By2xY",
        "outputId": "0a0c5f8c-b6d1-4537-f667-af0836feed2b"
      },
      "outputs": [
        {
          "output_type": "stream",
          "name": "stdout",
          "text": [
            "Enter your no: 3\n",
            "3 x 1 = 3\n",
            "3 x 2 = 6\n",
            "3 x 3 = 9\n",
            "3 x 4 = 12\n",
            "3 x 5 = 15\n",
            "3 x 6 = 18\n",
            "3 x 7 = 21\n",
            "3 x 8 = 24\n",
            "3 x 9 = 27\n",
            "3 x 10 = 30\n"
          ]
        }
      ],
      "source": [
        "# Write a Python program to find those numbers which are divisible by 7\n",
        "# and multiples of 5, between 1500 and 2700 (both included).\n",
        "num = int(input(\"Enter your no: \"))\n",
        "for i in range(1,11):\n",
        "     print(f\"{num} x {i} = {num * i}\")\n"
      ]
    },
    {
      "cell_type": "code",
      "source": [
        "# Write a Python program to convert temperatures to\n",
        "#  and from Celsius and Fahrenheit.\n",
        "for num in range(1500, 2701):\n",
        "    if num % 7 == 0 and num % 5 == 0:\n",
        "        print(num, end=\" \")"
      ],
      "metadata": {
        "colab": {
          "base_uri": "https://localhost:8080/"
        },
        "id": "65aIVTBizO1d",
        "outputId": "334c6a0a-23b7-4ce9-e62b-04799dfcabb2"
      },
      "execution_count": null,
      "outputs": [
        {
          "output_type": "stream",
          "name": "stdout",
          "text": [
            "1505 1540 1575 1610 1645 1680 1715 1750 1785 1820 1855 1890 1925 1960 1995 2030 2065 2100 2135 2170 2205 2240 2275 2310 2345 2380 2415 2450 2485 2520 2555 2590 2625 2660 2695 "
          ]
        }
      ]
    },
    {
      "cell_type": "code",
      "source": [
        "#Write a Python program to convert temperatures to and from Celsius and Fahrenheit.\n",
        "c = float(input(\"Enter temperature in Celsius: \"))\n",
        "f = (c * 9/5) + 32\n",
        "print(\"Temperature in Fahrenheit:\", f)"
      ],
      "metadata": {
        "colab": {
          "base_uri": "https://localhost:8080/"
        },
        "id": "mQeS8y0OzQQ9",
        "outputId": "dd2865dd-ad2b-4ce7-e8fd-b928b8829984"
      },
      "execution_count": null,
      "outputs": [
        {
          "output_type": "stream",
          "name": "stdout",
          "text": [
            "Enter temperature in Celsius: 23\n",
            "Temperature in Fahrenheit: 73.4\n"
          ]
        }
      ]
    },
    {
      "cell_type": "code",
      "source": [
        "#Write a Python program to guess a number between 1 and 9.\n",
        "import random\n",
        "s = random.randint(1, 10)\n",
        "guess = int(input(\"Guess a number between 1 and 10: \"))\n",
        "if guess == s:\n",
        "    print(\"true.\")\n",
        "else:\n",
        "    print(\"false\",s)"
      ],
      "metadata": {
        "colab": {
          "base_uri": "https://localhost:8080/"
        },
        "id": "vqM8F06QzUNQ",
        "outputId": "a36c0814-7d12-4e4d-f324-1300da5d1f08"
      },
      "execution_count": null,
      "outputs": [
        {
          "output_type": "stream",
          "name": "stdout",
          "text": [
            "Guess a number between 1 and 10: 2\n",
            "true.\n"
          ]
        }
      ]
    },
    {
      "cell_type": "code",
      "source": [
        "# Write a Python program to construct the following\n",
        "#  pattern, using a nested for loop.\n",
        "for i in range(1, 6):\n",
        "    for j in range(i):\n",
        "        print('*', end=' ')\n",
        "    print()\n",
        "for i in range(4, 0, -1):\n",
        "    for j in range(i):\n",
        "        print('*', end=' ')\n",
        "    print()\n"
      ],
      "metadata": {
        "colab": {
          "base_uri": "https://localhost:8080/"
        },
        "id": "ayW8Qbw7zgDF",
        "outputId": "4c60d413-1336-4430-de7b-ad53171e7a95"
      },
      "execution_count": null,
      "outputs": [
        {
          "output_type": "stream",
          "name": "stdout",
          "text": [
            "* \n",
            "* * \n",
            "* * * \n",
            "* * * * \n",
            "* * * * * \n",
            "* * * * \n",
            "* * * \n",
            "* * \n",
            "* \n"
          ]
        }
      ]
    },
    {
      "cell_type": "code",
      "source": [
        "# Write a Python program that accepts a word from the user and reverses it.\n",
        "word=input(\"enter word\")\n",
        "y = word[::-1]\n",
        "print(y)"
      ],
      "metadata": {
        "colab": {
          "base_uri": "https://localhost:8080/"
        },
        "id": "TAOxKtUIzkwO",
        "outputId": "9a0c9188-22d2-400f-8e9b-55f1e075cd4f"
      },
      "execution_count": null,
      "outputs": [
        {
          "output_type": "stream",
          "name": "stdout",
          "text": [
            "enter wordjanhavi\n",
            "ivahnaj\n"
          ]
        }
      ]
    },
    {
      "cell_type": "code",
      "source": [
        "#even odd num:\n",
        "numbers = (1, 2, 3, 4, 5, 6, 7, 8, 9)\n",
        "even = 0\n",
        "odd = 0\n",
        "for num in numbers:\n",
        "    if num % 2 == 0:\n",
        "        even += 1\n",
        "    else:\n",
        "        odd += 1\n",
        "\n",
        "print(\"Number of even numbers:\", even)\n",
        "print(\"Number of odd numbers:\", odd)\n"
      ],
      "metadata": {
        "colab": {
          "base_uri": "https://localhost:8080/"
        },
        "id": "_KbYvNvHzrwm",
        "outputId": "2ce12401-01fd-40f5-9e69-27e344a9b347"
      },
      "execution_count": null,
      "outputs": [
        {
          "output_type": "stream",
          "name": "stdout",
          "text": [
            "Number of even numbers: 4\n",
            "Number of odd numbers: 5\n"
          ]
        }
      ]
    },
    {
      "cell_type": "code",
      "source": [
        "# Write a Python program that prints each item and its corresponding type from the following list.\n",
        "a=4\n",
        "print(type(a))"
      ],
      "metadata": {
        "colab": {
          "base_uri": "https://localhost:8080/"
        },
        "id": "2sGSzhLxzvFf",
        "outputId": "7a53cbf4-dc82-45c9-8314-3cfdb1df0f5b"
      },
      "execution_count": null,
      "outputs": [
        {
          "output_type": "stream",
          "name": "stdout",
          "text": [
            "<class 'int'>\n"
          ]
        }
      ]
    },
    {
      "cell_type": "code",
      "source": [
        "# Write a Python program that prints all the numbers from 0 to 6 except 3 and 6.\n",
        "\n",
        "# Note : Use 'continue' statement.\n",
        "\n",
        "# Expected Output : 0 1 2 4 5\n",
        "for i in range(0,7):\n",
        "    if (i==3 or i==6) :\n",
        "        continue\n",
        "    else:\n",
        "        print(i)"
      ],
      "metadata": {
        "colab": {
          "base_uri": "https://localhost:8080/"
        },
        "id": "geXBxE19z8Fn",
        "outputId": "48f0b6fe-c9c7-4485-901a-8c398c57f5cf"
      },
      "execution_count": null,
      "outputs": [
        {
          "output_type": "stream",
          "name": "stdout",
          "text": [
            "0\n",
            "1\n",
            "2\n",
            "4\n",
            "5\n"
          ]
        }
      ]
    },
    {
      "cell_type": "code",
      "source": [
        "# Write a Python program to get the Fibonacci series between 0 and 50.\n",
        "a=1\n",
        "b=2\n",
        "while b < 50:\n",
        "  print(b)\n",
        "  a,b=b,a+b"
      ],
      "metadata": {
        "colab": {
          "base_uri": "https://localhost:8080/"
        },
        "id": "IZFDs8cn0AM8",
        "outputId": "d14bdbe0-c23e-4b75-83c8-436ad35e68b7"
      },
      "execution_count": null,
      "outputs": [
        {
          "output_type": "stream",
          "name": "stdout",
          "text": [
            "2\n",
            "3\n",
            "5\n",
            "8\n",
            "13\n",
            "21\n",
            "34\n"
          ]
        }
      ]
    },
    {
      "cell_type": "code",
      "source": [
        "# Write a Python program that iterates the integers from 1 to 50. For multiples of three print \"Fizz\" instead of the number and for multiples of five print \"Buzz\".\n",
        "#  For numbers that are multiples of three and five, print \"FizzBuzz\"\n",
        "for i in range(1, 51):  # Iterate from 1 to 50\n",
        "    if i % 3 == 0 and i % 5 == 0:\n",
        "        print(\"FizzBuzz\")\n",
        "    elif i % 3 == 0:\n",
        "        print(\"Fizz\")\n",
        "    elif i % 5 == 0:\n",
        "        print(\"Buzz\")\n",
        "    else:\n",
        "        print(i)\n"
      ],
      "metadata": {
        "colab": {
          "base_uri": "https://localhost:8080/"
        },
        "id": "k7-2Srda0rML",
        "outputId": "07046db6-95de-4387-c7b4-944324c19a6a"
      },
      "execution_count": null,
      "outputs": [
        {
          "output_type": "stream",
          "name": "stdout",
          "text": [
            "1\n",
            "2\n",
            "Fizz\n",
            "4\n",
            "Buzz\n",
            "Fizz\n",
            "7\n",
            "8\n",
            "Fizz\n",
            "Buzz\n",
            "11\n",
            "Fizz\n",
            "13\n",
            "14\n",
            "FizzBuzz\n",
            "16\n",
            "17\n",
            "Fizz\n",
            "19\n",
            "Buzz\n",
            "Fizz\n",
            "22\n",
            "23\n",
            "Fizz\n",
            "Buzz\n",
            "26\n",
            "Fizz\n",
            "28\n",
            "29\n",
            "FizzBuzz\n",
            "31\n",
            "32\n",
            "Fizz\n",
            "34\n",
            "Buzz\n",
            "Fizz\n",
            "37\n",
            "38\n",
            "Fizz\n",
            "Buzz\n",
            "41\n",
            "Fizz\n",
            "43\n",
            "44\n",
            "FizzBuzz\n",
            "46\n",
            "47\n",
            "Fizz\n",
            "49\n",
            "Buzz\n"
          ]
        }
      ]
    },
    {
      "cell_type": "code",
      "source": [
        "# Write a Python program that takes two digits m (row) and n (column) as input and generates a two-dimensional array.\n",
        "# The element value in the i-th row and j-th column of the array should be i*j\n",
        "a = int(input(\"Enter a number: \"))\n",
        "b = int(input(\"Enter a number: \"))\n",
        "for i in range(a):\n",
        "    for j in range(b):\n",
        "        print(i * j, end=\" \")\n",
        "    print()"
      ],
      "metadata": {
        "colab": {
          "base_uri": "https://localhost:8080/"
        },
        "id": "3hSM1fTa2xbA",
        "outputId": "d51c507f-8c3d-43ce-f5df-5ba20b5a296b"
      },
      "execution_count": null,
      "outputs": [
        {
          "output_type": "stream",
          "name": "stdout",
          "text": [
            "Enter a number: 2\n",
            "Enter a number: 3\n",
            "0 0 0 \n",
            "0 1 2 \n"
          ]
        }
      ]
    },
    {
      "cell_type": "markdown",
      "source": [],
      "metadata": {
        "id": "s2UUP98X2yYI"
      }
    },
    {
      "cell_type": "code",
      "source": [
        "# Write a Python program that accepts a sequence of lines (blank line to terminate)\n",
        "# as input and prints the lines as output (all characters in lower case)\n",
        "while True:\n",
        "    line = input()\n",
        "    if line == \"\":\n",
        "        break\n",
        "    print(line.upper())\n"
      ],
      "metadata": {
        "colab": {
          "base_uri": "https://localhost:8080/"
        },
        "id": "t0KZVf0g2CwA",
        "outputId": "f6b25de0-745a-44fe-ec3b-526e8379de6e"
      },
      "execution_count": null,
      "outputs": [
        {
          "name": "stdout",
          "output_type": "stream",
          "text": [
            "kumud\n",
            "KUMUD\n",
            "\n"
          ]
        }
      ]
    },
    {
      "cell_type": "code",
      "source": [],
      "metadata": {
        "id": "dBSI8ZYK3xe6"
      },
      "execution_count": null,
      "outputs": []
    }
  ]
}