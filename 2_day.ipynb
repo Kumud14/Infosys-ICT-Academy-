{
  "nbformat": 4,
  "nbformat_minor": 0,
  "metadata": {
    "colab": {
      "provenance": [],
      "authorship_tag": "ABX9TyMXmMHmzMFfbxOIEkta7iaV",
      "include_colab_link": true
    },
    "kernelspec": {
      "name": "python3",
      "display_name": "Python 3"
    },
    "language_info": {
      "name": "python"
    }
  },
  "cells": [
    {
      "cell_type": "markdown",
      "metadata": {
        "id": "view-in-github",
        "colab_type": "text"
      },
      "source": [
        "<a href=\"https://colab.research.google.com/github/Kumud14/Infosys-ICT-Academy-/blob/main/2_day.ipynb\" target=\"_parent\"><img src=\"https://colab.research.google.com/assets/colab-badge.svg\" alt=\"Open In Colab\"/></a>"
      ]
    },
    {
      "cell_type": "code",
      "execution_count": null,
      "metadata": {
        "id": "sQWTK37S2H9C"
      },
      "outputs": [],
      "source": [
        "# sequence/combination datatype\n",
        "# list\n",
        "#tuple\n",
        "# range\n",
        "# string -> single ('), double (\"), and triple quotes (''' or \"\"\")\n",
        "#set\n"
      ]
    },
    {
      "cell_type": "code",
      "source": [],
      "metadata": {
        "id": "rlKKE6bq-7uF"
      },
      "execution_count": null,
      "outputs": []
    },
    {
      "cell_type": "code",
      "source": [
        "#SLICING"
      ],
      "metadata": {
        "id": "aOABhOVl31ji"
      },
      "execution_count": null,
      "outputs": []
    },
    {
      "cell_type": "code",
      "source": [
        "s_str='Hello'\n",
        "print(s_str[0:3])"
      ],
      "metadata": {
        "colab": {
          "base_uri": "https://localhost:8080/"
        },
        "id": "x7Vfqt0E3jQS",
        "outputId": "803570a6-3846-4ee7-f9ee-036bfb713125"
      },
      "execution_count": null,
      "outputs": [
        {
          "output_type": "stream",
          "name": "stdout",
          "text": [
            "Hel\n"
          ]
        }
      ]
    },
    {
      "cell_type": "code",
      "source": [
        "s_str1={'Hello'}\n",
        "result=s_str1.union(s_str)\n",
        "print(result)"
      ],
      "metadata": {
        "colab": {
          "base_uri": "https://localhost:8080/"
        },
        "id": "PwxRtzDI47cL",
        "outputId": "6b57235a-bfde-4f44-9829-d6a840b4bbee"
      },
      "execution_count": null,
      "outputs": [
        {
          "output_type": "stream",
          "name": "stdout",
          "text": [
            "{'l', 'o', 'e', 'Hello', 'H'}\n"
          ]
        }
      ]
    },
    {
      "cell_type": "code",
      "source": [
        "#sequential data type\n"
      ],
      "metadata": {
        "id": "n-AgKy3D5EgD"
      },
      "execution_count": null,
      "outputs": []
    },
    {
      "cell_type": "code",
      "source": [
        "#by using the index"
      ],
      "metadata": {
        "id": "MC5TujKz7vFR"
      },
      "execution_count": null,
      "outputs": []
    },
    {
      "cell_type": "code",
      "source": [
        "for i in range(0,len(s_str)):\n",
        "  print(s_str[i],end)"
      ],
      "metadata": {
        "id": "SrvYWMXw6R0l"
      },
      "execution_count": null,
      "outputs": []
    },
    {
      "cell_type": "code",
      "source": [
        "# by using sequence of character"
      ],
      "metadata": {
        "id": "U5PKkz4Z7qGX"
      },
      "execution_count": null,
      "outputs": []
    },
    {
      "cell_type": "code",
      "source": [
        "#replace"
      ],
      "metadata": {
        "id": "KycB6Di38bYg"
      },
      "execution_count": null,
      "outputs": []
    },
    {
      "cell_type": "code",
      "source": [
        "new=s_str.replace('H','r')\n",
        "print(new)"
      ],
      "metadata": {
        "colab": {
          "base_uri": "https://localhost:8080/"
        },
        "id": "ylcgKdGr7zvY",
        "outputId": "a7c6dd63-fd02-45eb-8cf6-093ceeb57618"
      },
      "execution_count": null,
      "outputs": [
        {
          "output_type": "stream",
          "name": "stdout",
          "text": [
            "rello\n"
          ]
        }
      ]
    },
    {
      "cell_type": "code",
      "source": [
        "var ='r'\n",
        "new_str = var + s_str[1:]\n",
        "print(new_str) #shallow copy"
      ],
      "metadata": {
        "colab": {
          "base_uri": "https://localhost:8080/"
        },
        "id": "ra4BIZVI8g3n",
        "outputId": "82cbdd7c-9bc4-40d9-b541-1d1ccd56cfbe"
      },
      "execution_count": null,
      "outputs": [
        {
          "output_type": "stream",
          "name": "stdout",
          "text": [
            "rello\n"
          ]
        }
      ]
    },
    {
      "cell_type": "code",
      "source": [
        "typ = tuple()\n",
        "print(typ)"
      ],
      "metadata": {
        "colab": {
          "base_uri": "https://localhost:8080/"
        },
        "id": "M6OeCPU99I1X",
        "outputId": "c57a112d-d4fb-4609-b6e7-1c85539d87a0"
      },
      "execution_count": null,
      "outputs": [
        {
          "output_type": "stream",
          "name": "stdout",
          "text": [
            "()\n"
          ]
        }
      ]
    },
    {
      "cell_type": "code",
      "source": [
        "t = (1, 2, [3, 4])\n",
        "t[2][0] = 99\n",
        "t\n"
      ],
      "metadata": {
        "colab": {
          "base_uri": "https://localhost:8080/"
        },
        "id": "kVs3EQ3aDOnT",
        "outputId": "c15012c9-76f3-4d86-b7bf-b4d88dedde2a"
      },
      "execution_count": null,
      "outputs": [
        {
          "output_type": "execute_result",
          "data": {
            "text/plain": [
              "(1, 2, [99, 4])"
            ]
          },
          "metadata": {},
          "execution_count": 10
        }
      ]
    },
    {
      "cell_type": "code",
      "source": [
        "#Write a Python program to count the number of characters (character frequency) in a string.\n",
        "# Sample String : google.com'\n",
        "s = 'google.com'\n",
        "for ch in set(s):\n",
        "  print(ch, \":\", s.count(ch))\n"
      ],
      "metadata": {
        "colab": {
          "base_uri": "https://localhost:8080/"
        },
        "id": "5Fuwj8QyGKzL",
        "outputId": "c466a392-9977-418a-efaf-63d66ff757ba"
      },
      "execution_count": null,
      "outputs": [
        {
          "output_type": "stream",
          "name": "stdout",
          "text": [
            "l : 1\n",
            "o : 3\n",
            "c : 1\n",
            "e : 1\n",
            "g : 2\n",
            "m : 1\n",
            ". : 1\n"
          ]
        }
      ]
    },
    {
      "cell_type": "code",
      "source": [
        "#Write a Python program to get a string made of the first 2 and last 2 characters of a given string. If the string length is less than 2, return the empty string instead."
      ],
      "metadata": {
        "id": "5p6DRZZyGsAc"
      },
      "execution_count": null,
      "outputs": []
    },
    {
      "cell_type": "code",
      "source": [
        "def a(str):\n",
        "  if len(str) < 2:\n",
        "    return ''\n",
        "  return str[0:2] + str[-2:]\n",
        "print(a('w3resource'))\n",
        "print(a('w3'))\n",
        "print(a('w'))"
      ],
      "metadata": {
        "colab": {
          "base_uri": "https://localhost:8080/"
        },
        "id": "dYGj550oGybc",
        "outputId": "1eba00aa-fe13-49a6-ae7e-a094af1a9e14"
      },
      "execution_count": null,
      "outputs": [
        {
          "output_type": "stream",
          "name": "stdout",
          "text": [
            "w3ce\n",
            "w3w3\n",
            "\n"
          ]
        }
      ]
    },
    {
      "cell_type": "code",
      "source": [
        "#Write a Python program to get a string from a given string where all occurrences of its first char have been changed to '$', except the first char itself."
      ],
      "metadata": {
        "id": "iEykNKl7HXTG"
      },
      "execution_count": null,
      "outputs": []
    },
    {
      "cell_type": "code",
      "source": [
        "def b(str3):\n",
        "  char = str3[0]\n",
        "  str3 = str3.replace(char, '$')\n",
        "  str3 = char + str3[1:]\n",
        "  return str3\n",
        "print(b('restart'))"
      ],
      "metadata": {
        "colab": {
          "base_uri": "https://localhost:8080/"
        },
        "id": "S-nXbavDHbba",
        "outputId": "b407ae81-a6d7-42fd-e4e7-16ee0f7a328a"
      },
      "execution_count": null,
      "outputs": [
        {
          "output_type": "stream",
          "name": "stdout",
          "text": [
            "resta$t\n"
          ]
        }
      ]
    },
    {
      "cell_type": "code",
      "source": [
        "#Write a Python program to get a single string from two given strings, separated by a space and swap the first two characters of each string."
      ],
      "metadata": {
        "id": "ZM33ZFmzIS2i"
      },
      "execution_count": null,
      "outputs": []
    },
    {
      "cell_type": "code",
      "source": [
        "def mix_strings(a, b):\n",
        "    new_a = b[:2] + a[2:]\n",
        "    new_b = a[:2] + b[2:]\n",
        "\n",
        "    return new_a + \" \" + new_b\n",
        "\n",
        "print(mix_strings(\"abc\", \"xyz\"))\n"
      ],
      "metadata": {
        "colab": {
          "base_uri": "https://localhost:8080/"
        },
        "id": "KNL0jh9OIV0H",
        "outputId": "c1364961-99bd-41da-8eee-93be58e5c84d"
      },
      "execution_count": null,
      "outputs": [
        {
          "output_type": "stream",
          "name": "stdout",
          "text": [
            "xyc abz\n"
          ]
        }
      ]
    },
    {
      "cell_type": "code",
      "source": [
        "# function\n",
        "# - build in\n",
        "# -user defined\n",
        "    #Default , Keyword Argument , Multiple Positional ,Multiple Keyword\n",
        "# -Anonymous Function\n",
        "# -higher order"
      ],
      "metadata": {
        "id": "cjUYuvxQJl8r"
      },
      "execution_count": null,
      "outputs": []
    },
    {
      "cell_type": "code",
      "source": [
        "def fun(*z):\n",
        "  print(type(z))\n",
        "  print(z)\n",
        "fun(1,2,3,4)"
      ],
      "metadata": {
        "colab": {
          "base_uri": "https://localhost:8080/"
        },
        "id": "LO1ETWbAQWw3",
        "outputId": "93f3ac74-9d17-42c5-f84a-cd41a1eec3ec"
      },
      "execution_count": null,
      "outputs": [
        {
          "output_type": "stream",
          "name": "stdout",
          "text": [
            "<class 'tuple'>\n",
            "(1, 2, 3, 4)\n"
          ]
        }
      ]
    },
    {
      "cell_type": "code",
      "source": [
        "def fun(**z):\n",
        "  print(type(z))\n",
        "  print(z)\n",
        "fun(name=\"kumud\",a =\"200\")"
      ],
      "metadata": {
        "colab": {
          "base_uri": "https://localhost:8080/"
        },
        "id": "3FcFhu98RcrW",
        "outputId": "b7776c63-b033-431c-e18a-5481362eda45"
      },
      "execution_count": null,
      "outputs": [
        {
          "output_type": "stream",
          "name": "stdout",
          "text": [
            "<class 'dict'>\n",
            "{'name': 'kumud', 'a': '200'}\n"
          ]
        }
      ]
    },
    {
      "cell_type": "code",
      "source": [
        "# lambda function\n",
        "#  var = lambda<parameter> :code block\n",
        "#   print(var(parameter))"
      ],
      "metadata": {
        "id": "SqONfrVzSuRI"
      },
      "execution_count": null,
      "outputs": []
    },
    {
      "cell_type": "code",
      "source": [
        "from __future__ import generator_stop\n",
        "# HIGHER ORDER FUNTION\n",
        "# generator\n",
        "# decorator"
      ],
      "metadata": {
        "id": "zuXW3v8fS0u_"
      },
      "execution_count": null,
      "outputs": []
    },
    {
      "cell_type": "code",
      "source": [
        "def max(a,b):\n",
        "  if a>b:\n",
        "    return a\n",
        "  else:\n",
        "    return b\n",
        "def max(a,b,c):\n",
        "    return max(a,max(b,c))\n",
        "print(max(20,35,19))"
      ],
      "metadata": {
        "id": "YOO73UO3WzOt"
      },
      "execution_count": null,
      "outputs": []
    },
    {
      "cell_type": "code",
      "source": [
        "def sum(number):\n",
        "  total = 0\n",
        "  for x in number:\n",
        "    total += x\n",
        "  return total\n",
        "print(sum((8, 2, 3, 0, 7)))\n"
      ],
      "metadata": {
        "colab": {
          "base_uri": "https://localhost:8080/"
        },
        "id": "Y3w1EFGCXdHD",
        "outputId": "beae5f1b-be52-440d-d8b6-7284cf44ada8"
      },
      "execution_count": null,
      "outputs": [
        {
          "output_type": "stream",
          "name": "stdout",
          "text": [
            "20\n"
          ]
        }
      ]
    },
    {
      "cell_type": "code",
      "source": [
        "def mul(number):\n",
        "  total =1\n",
        "  for x in number:\n",
        "    total *= x\n",
        "  return total\n",
        "print(mul((8, 2, 3,  7)))"
      ],
      "metadata": {
        "colab": {
          "base_uri": "https://localhost:8080/"
        },
        "id": "t1OeN-N0Xvea",
        "outputId": "7cc57ab2-bf5e-4f74-bbb5-fe5f847e5b3c"
      },
      "execution_count": null,
      "outputs": [
        {
          "output_type": "stream",
          "name": "stdout",
          "text": [
            "336\n"
          ]
        }
      ]
    },
    {
      "cell_type": "code",
      "source": [
        "#Write a Python program to reverse a string.\n"
      ],
      "metadata": {
        "id": "lfTXy6nWYAHl"
      },
      "execution_count": null,
      "outputs": []
    },
    {
      "cell_type": "code",
      "source": [
        "def fact(n):\n",
        "  if n == 0:\n",
        "    return 1\n",
        "  else:\n",
        "    return n * fact(n - 1)\n",
        "\n",
        "n = int(input(\"Enter a number: \"))\n",
        "print(\"Factorial:\", fact(n))\n"
      ],
      "metadata": {
        "colab": {
          "base_uri": "https://localhost:8080/"
        },
        "id": "jkZkmuQTYPQH",
        "outputId": "ef17e0ff-ee33-4f82-d100-dd52e507edbc"
      },
      "execution_count": null,
      "outputs": [
        {
          "output_type": "stream",
          "name": "stdout",
          "text": [
            "Enter a number: 5\n",
            "Factorial: 120\n"
          ]
        }
      ]
    },
    {
      "cell_type": "code",
      "source": [
        "def tt(n):\n",
        "  if n in range(3,9):\n",
        "    print(\"in range \")\n",
        "  else:\n",
        "    print(\"not in range\")\n",
        "tt(2)"
      ],
      "metadata": {
        "colab": {
          "base_uri": "https://localhost:8080/"
        },
        "id": "vmo7jDOTY9-6",
        "outputId": "3c2d0ffd-20ef-4c0a-9c7d-9e77b055dc86"
      },
      "execution_count": null,
      "outputs": [
        {
          "output_type": "stream",
          "name": "stdout",
          "text": [
            "not in range\n"
          ]
        }
      ]
    },
    {
      "cell_type": "code",
      "source": [
        "#Write a Python program to create a lambda function that adds 15 to a given number passed in as an argument, also create a lambda function that multiplies argument x with argument y and prints the result.\n",
        "add = lambda x, y: x + y\n",
        "print(add(5, 3))\n",
        "mul= lambda j,k : j*k\n",
        "print(mul(5,3))"
      ],
      "metadata": {
        "colab": {
          "base_uri": "https://localhost:8080/"
        },
        "id": "5Nn4xIu9Zidq",
        "outputId": "0da783cb-b3f5-459e-f93c-affeeb9febfc"
      },
      "execution_count": null,
      "outputs": [
        {
          "output_type": "stream",
          "name": "stdout",
          "text": [
            "8\n",
            "15\n"
          ]
        }
      ]
    },
    {
      "cell_type": "code",
      "source": [
        "#Write a Python program to create a function that takes one argument, and that argument will be multiplied with an unknown given number.\n",
        "n = int(input(\"enter no\"))\n",
        "def ar(n):\n",
        "  return lambda x:x*n\n",
        "result = n(2)\n",
        "print(\"Double the number of 15 =\", result(15))"
      ],
      "metadata": {
        "id": "lqq3PSw5aevL"
      },
      "execution_count": null,
      "outputs": []
    },
    {
      "cell_type": "code",
      "source": [
        "mark=[('English', 88), ('Science', 90), ('Maths', 97), ('Social sciences', 82)]\n",
        "print(mark)\n",
        "mark.sort(key=lambda x: x[1])\n",
        "print(mark)"
      ],
      "metadata": {
        "colab": {
          "base_uri": "https://localhost:8080/"
        },
        "id": "T0227hjrbcLg",
        "outputId": "30f7c79b-9157-4637-ce5e-ddd78f3034c3"
      },
      "execution_count": null,
      "outputs": [
        {
          "output_type": "stream",
          "name": "stdout",
          "text": [
            "[('English', 88), ('Science', 90), ('Maths', 97), ('Social sciences', 82)]\n",
            "[('Social sciences', 82), ('English', 88), ('Science', 90), ('Maths', 97)]\n"
          ]
        }
      ]
    },
    {
      "cell_type": "code",
      "source": [
        "num=[1, 2, 3, 4, 5, 6, 7, 8, 9, 10]\n",
        "print(num)\n",
        "even= list(filter(lambda x:x%2==0,num))\n",
        "print(even)\n",
        "odd=list(filter(lambda x:x%2!=0,num))\n",
        "print(odd)"
      ],
      "metadata": {
        "colab": {
          "base_uri": "https://localhost:8080/"
        },
        "id": "zVp86mAib-CE",
        "outputId": "dfa2e803-f1d1-430c-a433-02173b35ec00"
      },
      "execution_count": null,
      "outputs": [
        {
          "output_type": "stream",
          "name": "stdout",
          "text": [
            "[1, 2, 3, 4, 5, 6, 7, 8, 9, 10]\n",
            "[2, 4, 6, 8, 10]\n",
            "[1, 3, 5, 7, 9]\n"
          ]
        }
      ]
    },
    {
      "cell_type": "code",
      "source": [
        "#Write a Python program to square and cube every number in a given list of integers using Lambda.\n",
        "print(num)\n",
        "nums = list(map(lambda x: x ** 2, num))\n",
        "print(nums)\n",
        "nums2 = list(map(lambda x: x ** 3, num))\n",
        "print(nums2)\n"
      ],
      "metadata": {
        "colab": {
          "base_uri": "https://localhost:8080/"
        },
        "id": "V1-Jv1_ZchkO",
        "outputId": "41db510d-3d41-46d7-b3ce-e7092c739c9a"
      },
      "execution_count": null,
      "outputs": [
        {
          "output_type": "stream",
          "name": "stdout",
          "text": [
            "[1, 2, 3, 4, 5, 6, 7, 8, 9, 10]\n",
            "[1, 4, 9, 16, 25, 36, 49, 64, 81, 100]\n",
            "[1, 8, 27, 64, 125, 216, 343, 512, 729, 1000]\n"
          ]
        }
      ]
    },
    {
      "cell_type": "code",
      "source": [
        "starts = lambda x: True if x.startswith('P') else False\n",
        "print(starts('Python'))\n",
        "print(starts('javascript'))\n"
      ],
      "metadata": {
        "colab": {
          "base_uri": "https://localhost:8080/"
        },
        "id": "j9KJEtjgc8Mw",
        "outputId": "fe728e3f-6625-4df9-99ed-c77964ac57e0"
      },
      "execution_count": null,
      "outputs": [
        {
          "output_type": "stream",
          "name": "stdout",
          "text": [
            "True\n",
            "False\n"
          ]
        }
      ]
    },
    {
      "cell_type": "code",
      "source": [
        "# OOP :\n",
        "# Abstraction\n",
        "# encapsulation\n",
        "# Inheritence\n",
        "# polymorphism"
      ],
      "metadata": {
        "id": "Ie7X7hWcuyru"
      },
      "execution_count": null,
      "outputs": []
    },
    {
      "cell_type": "code",
      "source": [
        "class c1:\n",
        "  def __init__(self):\n",
        "    pass\n",
        "  id='23'\n",
        "  name='kumud'\n",
        "obj=c1() # ()to call constructor Since you didn’t define your own constructor (__init__), Python uses the default constructor.\n",
        "\n",
        "obj=c1() #object creation\n",
        "print(obj.id)\n",
        "print(obj.name)"
      ],
      "metadata": {
        "id": "7zDBdp46vX9W"
      },
      "execution_count": null,
      "outputs": []
    },
    {
      "cell_type": "code",
      "source": [
        "# multi level inheritence\n",
        "\n",
        "class c3():\n",
        "  name=\"kumud\"\n",
        "class c4(c3):\n",
        "  date=22\n",
        "class c5(c4):\n",
        "  curr=100\n",
        "obj=c5()\n",
        "print(obj.name)\n"
      ],
      "metadata": {
        "colab": {
          "base_uri": "https://localhost:8080/"
        },
        "id": "rsgTiBoqx0a1",
        "outputId": "a2add308-6c75-4a3f-c5bf-fad5108c9e71"
      },
      "execution_count": null,
      "outputs": [
        {
          "output_type": "stream",
          "name": "stdout",
          "text": [
            "kumud\n"
          ]
        }
      ]
    },
    {
      "cell_type": "code",
      "source": [
        "#multiple inheritence\n",
        "class c3():\n",
        "  name=\"kumud\"\n",
        "class c4():\n",
        "  date=22\n",
        "class c5(c3,c4):\n",
        "  curr=100\n",
        "obj=c5()\n",
        "print(obj.name)\n",
        "print(obj.date)"
      ],
      "metadata": {
        "colab": {
          "base_uri": "https://localhost:8080/"
        },
        "id": "RlA54mie05_X",
        "outputId": "4d5fe780-a240-4b66-8b63-881d2e2345dd"
      },
      "execution_count": null,
      "outputs": [
        {
          "output_type": "stream",
          "name": "stdout",
          "text": [
            "kumud\n",
            "22\n"
          ]
        }
      ]
    },
    {
      "cell_type": "code",
      "source": [
        "class c1:\n",
        "  def __init__(self):\n",
        "    pass\n",
        "  id='23'\n",
        "  name='kumud'\n",
        "def func(self):\n",
        "  pass\n"
      ],
      "metadata": {
        "id": "TEkO9gP71kDb"
      },
      "execution_count": null,
      "outputs": []
    },
    {
      "cell_type": "code",
      "source": [
        "#Write a Python program to import a built-in array module and display the namespace of the said module.\n",
        "import array\n",
        "for name in array.__dict__:\n",
        "    print(name)\n"
      ],
      "metadata": {
        "colab": {
          "base_uri": "https://localhost:8080/"
        },
        "id": "Nd7flW2V3YBr",
        "outputId": "ceb72954-a25a-4fcd-febf-4005b6c7773d"
      },
      "execution_count": null,
      "outputs": [
        {
          "output_type": "stream",
          "name": "stdout",
          "text": [
            "__name__\n",
            "__doc__\n",
            "__package__\n",
            "__loader__\n",
            "__spec__\n",
            "_array_reconstructor\n",
            "ArrayType\n",
            "array\n",
            "typecodes\n"
          ]
        }
      ]
    },
    {
      "cell_type": "code",
      "source": [
        "import array\n",
        "print(dir(array))  # dir array Returns a list of all functions, classes, and attributes defined in the module."
      ],
      "metadata": {
        "colab": {
          "base_uri": "https://localhost:8080/"
        },
        "id": "kVoa_uAP30rf",
        "outputId": "04590a17-b728-4a2f-8d40-67ee56e1a7b0"
      },
      "execution_count": null,
      "outputs": [
        {
          "output_type": "stream",
          "name": "stdout",
          "text": [
            "['ArrayType', '__doc__', '__loader__', '__name__', '__package__', '__spec__', '_array_reconstructor', 'array', 'typecodes']\n"
          ]
        }
      ]
    },
    {
      "cell_type": "code",
      "source": [
        "#Write a Python program to create a class representing a Circle. Include methods to calculate its area and perimeter.\n",
        "import math\n",
        "class Circle:\n",
        "    def __init__(self, radius):\n",
        "        self.radius = radius\n",
        "\n",
        "    def area(self):\n",
        "        return math.pi * self.radius ** 2\n",
        "\n",
        "    def perimeter(self):\n",
        "        return 2 * math.pi * self.radius\n",
        "radius = float(input(\"Enter the radius of the circle: \"))\n",
        "c = Circle(radius)\n",
        "\n",
        "print(\"Area of the circle:\", c.area())\n",
        "print(\"Perimeter of the circle:\", c.perimeter())"
      ],
      "metadata": {
        "colab": {
          "base_uri": "https://localhost:8080/"
        },
        "id": "6ftrY1j24LTA",
        "outputId": "af8b23ad-6dee-47bd-817c-0f19069b73d0"
      },
      "execution_count": null,
      "outputs": [
        {
          "output_type": "stream",
          "name": "stdout",
          "text": [
            "Enter the radius of the circle: 5\n",
            "Area of the circle: 78.53981633974483\n",
            "Perimeter of the circle: 31.41592653589793\n"
          ]
        }
      ]
    },
    {
      "cell_type": "code",
      "source": [
        "#Write a Python program to create a person class. Include attributes like name, country and date of birth. Implement a method to determine the person's age.\n",
        "from datetime import date\n",
        "class Person:\n",
        "    def __init__(self, name, country, date_of_birth):\n",
        "        self.name = name\n",
        "        self.country = country\n",
        "        self.date_of_birth = date_of_birth\n",
        "    def calculate_age(self):\n",
        "        today = datetime.today()\n",
        "        age = today.year - self.date_of_birth.year\n",
        "\n",
        "        # Adjust if birthday hasn't occurred yet this year\n",
        "        if (today.month, today.day) < (self.date_of_birth.month, self.date_of_birth.day):\n",
        "            age -= 1\n",
        "        return age"
      ],
      "metadata": {
        "id": "oZpE_Dq15XbI"
      },
      "execution_count": null,
      "outputs": []
    },
    {
      "cell_type": "code",
      "source": [
        "#Write a Python program to create a calculator class. Include methods for basic arithmetic operations.\n",
        "class Calculator:\n",
        "  def sum(self,x,y):\n",
        "    return x+y\n",
        "  def sub(self,x,y):\n",
        "    return x-y\n",
        "  def mul(self,x,y):\n",
        "    return x*y\n",
        "cal=Calculator()\n",
        "cal.sum(2,4)\n",
        "\n"
      ],
      "metadata": {
        "colab": {
          "base_uri": "https://localhost:8080/"
        },
        "id": "SP6pIbUE6-3U",
        "outputId": "2caeb747-1190-40cd-fa53-3fec6f882662"
      },
      "execution_count": null,
      "outputs": [
        {
          "output_type": "execute_result",
          "data": {
            "text/plain": [
              "6"
            ]
          },
          "metadata": {},
          "execution_count": 50
        }
      ]
    },
    {
      "cell_type": "code",
      "source": [
        "#Write a Python program to create a class that represents a shape. Include methods to calculate its area and perimeter. Implement subclasses for different shapes like circle, triangle, and square\n",
        "import math\n",
        "\n",
        "# Base class\n",
        "class Shape:\n",
        "    def area(self):\n",
        "        return 0\n",
        "\n",
        "    def perimeter(self):\n",
        "        return 0\n",
        "\n",
        "# Circle subclass\n",
        "class Circle(Shape):\n",
        "    def __init__(self, radius):\n",
        "        self.radius = radius\n",
        "\n",
        "    def area(self):\n",
        "        return math.pi * self.radius ** 2\n",
        "\n",
        "    def perimeter(self):\n",
        "        return 2 * math.pi * self.radius\n",
        "\n",
        "# Square subclass\n",
        "class Square(Shape):\n",
        "    def __init__(self, side):\n",
        "        self.side = side\n",
        "\n",
        "    def area(self):\n",
        "        return self.side ** 2\n",
        "\n",
        "    def perimeter(self):\n",
        "        return 4 * self.side\n",
        "\n",
        "circle = float(input(\"enter no 1\"))\n",
        "a=Square(circle)\n",
        "print(\"Circle Area:\", a.area())\n",
        "print(\"Circle Perimeter:\", a.perimeter())\n",
        "\n",
        "\n"
      ],
      "metadata": {
        "colab": {
          "base_uri": "https://localhost:8080/"
        },
        "id": "b1_7-jsc8C3r",
        "outputId": "6384c67a-9d89-41dc-e74f-1d0bb70788b5"
      },
      "execution_count": null,
      "outputs": [
        {
          "output_type": "stream",
          "name": "stdout",
          "text": [
            "enter no 15\n",
            "Circle Area: 25.0\n",
            "Circle Perimeter: 20.0\n"
          ]
        }
      ]
    },
    {
      "cell_type": "code",
      "source": [
        "# Write a Python class to check the validity of a string of parentheses, '(', ')', '{', '}', '[' and ']. These brackets must be closed in the correct order,\n",
        "# for example \"()\" and \"()[]{}\" are valid but \"[)\", \"({[)]\" and \"{{{\" are invalid\n",
        "class BracketCheck:\n",
        "    def is_valid(self, string):\n",
        "        stack = []\n",
        "        for ch in string:\n",
        "            if ch in \"({[\":\n",
        "                stack.append(ch)\n",
        "            elif ch in \")}]\":\n",
        "                if not stack:\n",
        "                    return False\n",
        "                if ch == \")\" and stack[-1] != \"(\":\n",
        "                    return False\n",
        "                if ch == \"}\" and stack[-1] != \"{\":\n",
        "                    return False\n",
        "                if ch == \"]\" and stack[-1] != \"[\":\n",
        "                    return False\n",
        "                stack.pop()\n",
        "        return stack == []\n",
        "\n",
        "\n",
        "check = BracketCheck()\n",
        "\n",
        "print(check.is_valid(\"()\"))\n",
        "print(check.is_valid(\"()[]{}\"))\n",
        "print(check.is_valid(\"[)\"))\n",
        "print(check.is_valid(\"({[)]\"))\n",
        "\n"
      ],
      "metadata": {
        "colab": {
          "base_uri": "https://localhost:8080/"
        },
        "id": "eAp_orLm9TZD",
        "outputId": "3ef2b1f5-33e6-48a1-b193-d01ec39a199f"
      },
      "execution_count": null,
      "outputs": [
        {
          "output_type": "stream",
          "name": "stdout",
          "text": [
            "True\n",
            "True\n",
            "False\n",
            "False\n"
          ]
        }
      ]
    },
    {
      "cell_type": "code",
      "source": [
        "#Write a Python class to reverse a string word by word.\n",
        "class Reverser:\n",
        "    def reverse(self, sentence):\n",
        "        return ' '.join(sentence.split()[::-1])\n",
        "\n",
        "r = Reverser()\n",
        "print(r.reverse(\"I love Python\"))\n"
      ],
      "metadata": {
        "colab": {
          "base_uri": "https://localhost:8080/"
        },
        "id": "zsoB5dteHDgN",
        "outputId": "174d2e18-8066-404f-94c2-a292e6268328"
      },
      "execution_count": null,
      "outputs": [
        {
          "output_type": "stream",
          "name": "stdout",
          "text": [
            "Python love I\n"
          ]
        }
      ]
    },
    {
      "cell_type": "code",
      "source": [],
      "metadata": {
        "id": "4Zsj8vx-HgR6"
      },
      "execution_count": null,
      "outputs": []
    }
  ]
}